{
  "nbformat": 4,
  "nbformat_minor": 0,
  "metadata": {
    "colab": {
      "provenance": []
    },
    "kernelspec": {
      "name": "python3",
      "display_name": "Python 3"
    },
    "language_info": {
      "name": "python"
    }
  },
  "cells": [
    {
      "cell_type": "markdown",
      "metadata": {
        "id": "_YHdv6JBCkpO"
      },
      "source": [
        "# 8 queen problem with genetic algorithms\n"
      ]
    },
    {
      "cell_type": "code",
      "metadata": {
        "id": "40jtw-g0DVP5"
      },
      "source": [
        "import numpy as np\n",
        "import random\n"
      ],
      "execution_count": null,
      "outputs": []
    },
    {
      "cell_type": "code",
      "metadata": {
        "id": "98dop6PIDBsJ"
      },
      "source": [
        "def generate_population(N):\n",
        "  population = np.arange(0,8)\n",
        "  totalPop = np.zeros((N,8))\n",
        "  for i in range(N):\n",
        "    permutation = np.random.permutation(population)\n",
        "    totalPop[i] = permutation\n",
        "  return totalPop\n"
      ],
      "execution_count": null,
      "outputs": []
    },
    {
      "cell_type": "code",
      "metadata": {
        "id": "fZ8aZRbeGTXi"
      },
      "source": [
        "def get_fitness(population,N):\n",
        "  fitness = np.zeros((N))\n",
        "  errorCount = 0\n",
        "  contI = 0\n",
        "  for i in population:\n",
        "    for j in range(len(i)):\n",
        "        for l in range(len(i)):\n",
        "          if j != l:\n",
        "            if checkError(j,l,i):\n",
        "              errorCount+=1\n",
        "              break;\n",
        "    fitness[contI] = (8 - errorCount) + 1\n",
        "    errorCount = 0\n",
        "    contI+=1\n",
        "  return fitness"
      ],
      "execution_count": null,
      "outputs": []
    },
    {
      "cell_type": "code",
      "metadata": {
        "id": "a_HOh2EbKPkB"
      },
      "source": [
        "def checkError(index1,index2,permutation):\n",
        "  if ( (index1 + permutation[index1]) == (index2 + permutation[index2]) ) or ( (permutation[index1] - index1) == (permutation[index2] - index2) ):\n",
        "    return True\n",
        "  else:\n",
        "    return False"
      ],
      "execution_count": null,
      "outputs": []
    },
    {
      "cell_type": "code",
      "metadata": {
        "id": "tpcHFfUdSLgY"
      },
      "source": [
        "def get_elite(fitness,population):\n",
        "  max = -1\n",
        "  maxIndex = 0\n",
        "  for i in range(len(fitness)):\n",
        "    if fitness[i]>max:\n",
        "      max = fitness[i]\n",
        "      maxIndex = i\n",
        "  return max, population[maxIndex]"
      ],
      "execution_count": null,
      "outputs": []
    },
    {
      "cell_type": "code",
      "metadata": {
        "id": "tvpzGhY47UaY"
      },
      "source": [
        "def get_worst(fitness,population):\n",
        "  max = 10\n",
        "  maxIndex = 0\n",
        "  for i in range(len(fitness)):\n",
        "    if fitness[i]<max:\n",
        "      max = fitness[i]\n",
        "      maxIndex = i\n",
        "  return maxIndex"
      ],
      "execution_count": null,
      "outputs": []
    },
    {
      "cell_type": "code",
      "metadata": {
        "id": "z6gIokBQUWN0"
      },
      "source": [
        "def get_parents(fitness, population):\n",
        "  fitSum = np.sum(fitness)\n",
        "  proportions = fitness/fitSum\n",
        "  ranges = np.zeros((len(fitness),2))\n",
        "  startIndex = 0\n",
        "  for i in range(len(fitness)):\n",
        "    ranges[i][0] = startIndex\n",
        "    ranges[i][1] = startIndex + proportions[i]\n",
        "    startIndex+=proportions[i]\n",
        "\n",
        "  newPopulation = np.zeros((len(fitness),8))\n",
        "  for i in range(len(fitness)):\n",
        "    randomN = random.random()\n",
        "    for j in range(len(fitness)):\n",
        "      if randomN > ranges[j][0] and randomN < ranges[j][1]:\n",
        "        newPopulation[i] = np.copy(population[j])\n",
        "  \n",
        "  return newPopulation"
      ],
      "execution_count": null,
      "outputs": []
    },
    {
      "cell_type": "code",
      "metadata": {
        "id": "hheO_Vneeu9f"
      },
      "source": [
        "def get_crossover(population,N,Pr):\n",
        "  newPopulation = np.zeros((N,8))\n",
        "  for i in range(N):\n",
        "    if random.random() < Pr:\n",
        "      parent1 = population[ np.random.randint(0,N) ]\n",
        "      parent2 = population[ np.random.randint(0,N) ]\n",
        "      sections = np.zeros((2))\n",
        "      sections = np.random.randint(1,7),np.random.randint(1,7)\n",
        "      sections = np.sort(sections)\n",
        "      son = np.zeros((8))\n",
        "      son[:] = -1\n",
        "      son[sections[0]:sections[1]] = np.copy(parent1[sections[0]:sections[1]])\n",
        "\n",
        "      for j in range(0,sections[0]):\n",
        "        if parent2[j] not in son:\n",
        "          son[j] = np.copy(parent2[j])\n",
        "      \n",
        "      for j in range(sections[1],len(parent2)):\n",
        "        if parent2[j] not in son:\n",
        "          son[j] = np.copy(parent2[j])\n",
        "\n",
        "      for j in range(len(parent2)):\n",
        "        if parent2[j] not in son:\n",
        "          cont = 0\n",
        "          while son[cont] !=-1 and cont <8:\n",
        "            cont+=1\n",
        "          son[cont] = np.copy(parent2[j])\n",
        "\n",
        "      newPopulation[i] = np.copy(son)\n",
        "    else:\n",
        "      newPopulation[i] = np.copy(population[i])\n",
        "  \n",
        "  return newPopulation"
      ],
      "execution_count": null,
      "outputs": []
    },
    {
      "cell_type": "code",
      "metadata": {
        "id": "ORu72vhiv7Ek"
      },
      "source": [
        "def mutation(population,N,Pm):\n",
        "  newPopulation = np.zeros((N,8))\n",
        "  newPopulation = np.copy(population)\n",
        "  for i in range(N):\n",
        "    if random.random() < Pm:\n",
        "      random1, random2 = np.random.randint(0,8),np.random.randint(0,8)\n",
        "      aux = newPopulation[i][random1]\n",
        "      newPopulation[i][random1] = np.copy(newPopulation[i][random2])\n",
        "      newPopulation[i][random2] = aux\n",
        "  return newPopulation \n",
        "  "
      ],
      "execution_count": null,
      "outputs": []
    },
    {
      "cell_type": "code",
      "metadata": {
        "id": "v7aBjy-gCtbq"
      },
      "source": [
        "def gen_algorithm(N,G,Pr,Pm):\n",
        "  Gk = 0\n",
        "  population = generate_population(N)\n",
        "  fitness = get_fitness(population,N)\n",
        "  \n",
        "  elite = get_elite(fitness,population)\n",
        "\n",
        "  while Gk < G or elite[0] < 9:\n",
        "    population = np.copy(get_parents(fitness,population))\n",
        "    population = np.copy(get_crossover(population,N,Pr))\n",
        "    population = np.copy(mutation(population,N,Pm))\n",
        "    fitness = get_fitness(population,N)\n",
        "\n",
        "    newElite = get_elite(fitness,population)\n",
        "\n",
        "    if newElite[0] > elite[0]:\n",
        "      elite= newElite[0],newElite[1]\n",
        "    else:\n",
        "      worst = get_worst(fitness,population)\n",
        "      best = np.array(elite[1])\n",
        "      population[worst] = np.copy(best)\n",
        "    \n",
        "\n",
        "    Gk+=1\n",
        "  return elite\n",
        "    \n"
      ],
      "execution_count": null,
      "outputs": []
    },
    {
      "cell_type": "code",
      "metadata": {
        "id": "Coe18a2mBlwu"
      },
      "source": [
        "import io\n",
        "\n",
        "def board_to_fen(board):\n",
        "    # Use StringIO to build string more efficiently than concatenating\n",
        "    with io.StringIO() as s:\n",
        "        for row in board:\n",
        "            empty = 0\n",
        "            for cell in row:\n",
        "                c = cell[0]\n",
        "                if c in ('w', 'b'):\n",
        "                    if empty > 0:\n",
        "                        s.write(str(empty))\n",
        "                        empty = 0\n",
        "                    s.write(cell[1].upper() if c == 'w' else cell[1].lower())\n",
        "                else:\n",
        "                    empty += 1\n",
        "            if empty > 0:\n",
        "                s.write(str(empty))\n",
        "            s.write('/')\n",
        "        # Move one position back to overwrite last '/'\n",
        "        s.seek(s.tell() - 1)\n",
        "        # If you do not have the additional information choose what to put\n",
        "        s.write(' w KQkq - 0 1')\n",
        "        return s.getvalue()"
      ],
      "execution_count": null,
      "outputs": []
    },
    {
      "cell_type": "code",
      "metadata": {
        "colab": {
          "base_uri": "https://localhost:8080/"
        },
        "id": "es7Yk6J7EtdL",
        "outputId": "9ef6e5b6-14fd-41e4-f963-bdd2f54d34c2"
      },
      "source": [
        "final_solution = gen_algorithm(30,100,0.8,0.3)\n",
        "print(\"FINAL SOLUTION: \",final_solution)\n",
        "\n",
        "tablero = np.zeros((8,8))\n",
        "print()\n",
        "for i in range(len(final_solution[1])):\n",
        "  index = int(final_solution[1][i])\n",
        "  tablero[i][index] = '1'\n",
        "\n",
        "print(\"---SOLVED CHESSBOARD---\")\n",
        "print(tablero)\n",
        "\n",
        "board = [\n",
        "    ['em', 'em', 'em', 'em', 'em', 'em', 'em', 'em'],\n",
        "    ['em', 'em', 'em', 'em', 'em', 'em', 'em', 'em'],\n",
        "    ['em', 'em', 'em', 'em', 'em', 'em', 'em', 'em'],\n",
        "    ['em', 'em', 'em', 'em', 'em', 'em', 'em', 'em'],\n",
        "    ['em', 'em', 'em', 'em', 'em', 'em', 'em', 'em'],\n",
        "    ['em', 'em', 'em', 'em', 'em', 'em', 'em', 'em'],\n",
        "    ['em', 'em', 'em', 'em', 'em', 'em', 'em', 'em'],\n",
        "    ['em', 'em', 'em', 'em', 'em', 'em', 'em', 'em'],\n",
        "]\n",
        "for i in range(8):\n",
        "  for j in range(8):\n",
        "    if tablero[i][j] == 1:\n",
        "      board[i][j] = 'bq'\n",
        "\n",
        "print(\"PUEDES COPIAR ESTE STRING Y PEGARLO EN CHESS.COM, EN LA PARTE DONDE DICE 'LOAD FEN'\\nPARA UNA MEJOR REPRESENTACIÓN GRÁFICA\")\n",
        "print(board_to_fen(board))"
      ],
      "execution_count": null,
      "outputs": [
        {
          "output_type": "stream",
          "text": [
            "FINAL SOLUTION:  (9.0, array([1., 3., 5., 7., 2., 0., 6., 4.]))\n",
            "\n",
            "---SOLVED CHESSBOARD---\n",
            "[[0. 1. 0. 0. 0. 0. 0. 0.]\n",
            " [0. 0. 0. 1. 0. 0. 0. 0.]\n",
            " [0. 0. 0. 0. 0. 1. 0. 0.]\n",
            " [0. 0. 0. 0. 0. 0. 0. 1.]\n",
            " [0. 0. 1. 0. 0. 0. 0. 0.]\n",
            " [1. 0. 0. 0. 0. 0. 0. 0.]\n",
            " [0. 0. 0. 0. 0. 0. 1. 0.]\n",
            " [0. 0. 0. 0. 1. 0. 0. 0.]]\n",
            "PUEDES COPIAR ESTE STRING Y PEGARLO EN CHESS.COM, EN LA PARTE DONDE DICE 'LOAD FEN'\n",
            "PARA UNA MEJOR REPRESENTACIÓN GRÁFICA\n",
            "1q6/3q4/5q2/7q/2q5/q7/6q1/4q3 w KQkq - 0 1\n"
          ],
          "name": "stdout"
        }
      ]
    }
  ]
}